{
 "cells": [
  {
   "cell_type": "markdown",
   "metadata": {},
   "source": [
    "# Introduzione a Jupyter Notebook\n",
    "***"
   ]
  },
  {
   "cell_type": "markdown",
   "metadata": {},
   "source": [
    "# 1. Campi di testo"
   ]
  },
  {
   "cell_type": "markdown",
   "metadata": {},
   "source": [
    "## 1.1 Stile"
   ]
  },
  {
   "cell_type": "markdown",
   "metadata": {},
   "source": [
    "# Questo è un titolo grande\n",
    "## Questo è un titolo medio\n",
    "### Questo è un titolo piccolo\n",
    "#### Questo è un titolo ancora più piccolo\n",
    "\n",
    "\n",
    "Questo è un semplice paragrafo.\n",
    "\n",
    "Questo è un paragrafo con un pò di enfasi sul testo, come il **grassetto** o il *corsivo* oppure un pò di colori, come <font color=\"blue\">blu</font>, <font color=\"red\">rosso</font>, <font color=\"green\">verde</font>, <font color=\"pink\">rosa</font> e <font color=\"yellow\">giallo</font>.\n",
    "\n",
    "Se vuoi forzare una nuova linea <br> fai così :)\n",
    "\n",
    "> Invece così puoi indentare il tuo testo"
   ]
  },
  {
   "cell_type": "markdown",
   "metadata": {},
   "source": [
    "## 1.2 Formattazione"
   ]
  },
  {
   "cell_type": "markdown",
   "metadata": {},
   "source": [
    "Se vuoi forzare una nuova linea <br> fai così :)\n",
    "\n",
    "> Invece così puoi indentare il tuo testo\n",
    "\n",
    "Vuoi creare una lista non numerata ? Fai così:\n",
    "* A\n",
    "* B\n",
    "    *  B1\n",
    "    *  B2\n",
    "    *  B3\n",
    "* C\n",
    "\n",
    "Mentre così puoi creare una lista numerata:\n",
    "1. A\n",
    "2. B\n",
    "    1. B1\n",
    "    2. B2\n",
    "    3. B3\n",
    "3. C"
   ]
  },
  {
   "cell_type": "markdown",
   "metadata": {},
   "source": [
    "## 1.3 Links\n",
    "\n",
    "Puoi creare due tipo di link:\n",
    "* Link a sezioni interne: [Vai al codice](#code) (per far questo devi aggiungere un ID alla sezione di arrivo)\n",
    "* Link esterni __[Visita il nostro sito](https://profession.ai) __"
   ]
  },
  {
   "cell_type": "markdown",
   "metadata": {},
   "source": [
    "## 1.4 Matematica"
   ]
  },
  {
   "cell_type": "markdown",
   "metadata": {},
   "source": [
    "### Per visualizzare operazioni matematiche fai così:\n",
    "$ 3*(3/2 + 4)^2 $\n",
    "\n",
    "Puoi scrivere espressioni in formato [LaTeX](https://it.wikipedia.org/wiki/LaTeX) in questo modo:\n",
    "$$c = \\sqrt{a^2 + b^2}$$\n",
    "\n",
    "Qui trovi un breve recap di tutti gli [operatori LaTeX](https://it.wikipedia.org/wiki/Aiuto:Formule_matematiche_TeX)"
   ]
  },
  {
   "cell_type": "markdown",
   "metadata": {},
   "source": [
    "## 1.5 Multimedia"
   ]
  },
  {
   "cell_type": "markdown",
   "metadata": {},
   "source": [
    "### 1.4.1 Immagini\n",
    "\n",
    "Puoi aggiungere un'immagine al tuo Notebook in questo modo\n",
    "![Logo python](media/python_logo.png)\n",
    "\n",
    "Oppure usando l'HTML:\n",
    "\n",
    "<img src=\"python_logo.png\" alt=\"logo di python\" title=\"Logo Python\" />\n",
    "\n",
    "Usando l'HTML puoi anche ridimensionare l'immagine\n",
    "\n",
    "<img src=\"python_logo.png\" width=\"50\" height=\"50\" alt=\"Logo Python\">"
   ]
  },
  {
   "cell_type": "markdown",
   "metadata": {
    "collapsed": true
   },
   "source": [
    "## 1.4.2 Video\n",
    "Puoi avviare un file video utilizzando il tag video, usa i parametri width e height per ridimensionare la finestra\n",
    "<br>\n",
    "<video width=\"320\" height=\"240\"controls src=\"media/jellyfish_video.mp4\" />"
   ]
  },
  {
   "cell_type": "markdown",
   "metadata": {
    "collapsed": true
   },
   "source": [
    "## 1.4.3 Audio\n",
    "\n",
    "Puoi avviare un file audio utilizzando il tag \"audio\"\n",
    "<br><br>\n",
    "<audio controls src=\"./water.mp3\" />"
   ]
  },
  {
   "cell_type": "markdown",
   "metadata": {},
   "source": [
    "** NOTA BENE **\n",
    "Le funzioni di visualizzazioni audio e video all'interno di celle di markdown sono ancora imperfette e danno alcuni problemi su diversi browser.\n",
    "Il mio consiglio è di utilizzare Python con la libreria HTML per questi scopi."
   ]
  },
  {
   "cell_type": "code",
   "execution_count": 1,
   "metadata": {},
   "outputs": [
    {
     "data": {
      "text/html": [
       "<iframe width=\"640\" height=\"480\" src=\"http://mirrors.standaloneinstaller.com/video-sample/jellyfish-25-mbps-hd-hevc.mp4\"></iframe>"
      ],
      "text/plain": [
       "<IPython.core.display.HTML object>"
      ]
     },
     "execution_count": 1,
     "metadata": {},
     "output_type": "execute_result"
    }
   ],
   "source": [
    "from IPython.display import HTML\n",
    "\n",
    "HTML('<iframe width=\"640\" height=\"480\" src=\"http://mirrors.standaloneinstaller.com/video-sample/jellyfish-25-mbps-hd-hevc.mp4\"></iframe>')"
   ]
  },
  {
   "cell_type": "markdown",
   "metadata": {},
   "source": [
    "Bene per concludere aggiungiamo una linea separatrice e passiamo alla prossima sezione\n",
    "***"
   ]
  },
  {
   "cell_type": "markdown",
   "metadata": {},
   "source": [
    "# 2. Codice\n",
    "<a id=\"code\"></a>"
   ]
  },
  {
   "cell_type": "markdown",
   "metadata": {},
   "source": [
    "## 2.1 Il kernel"
   ]
  },
  {
   "cell_type": "markdown",
   "metadata": {},
   "source": [
    "Puoi eseguire il tuo codice python all'interno di una cella di codice, le celle vengono eseguite in maniera sequenziale, le parentesi quadre sulla sinistra della cella ne rappresentano lo stato, se contengono un * vuol dire che la cella è in esecuzione, mentre se contengono un numero questo rappresenta l'ordine di esecuzione."
   ]
  },
  {
   "cell_type": "code",
   "execution_count": null,
   "metadata": {},
   "outputs": [
    {
     "name": "stdout",
     "output_type": "stream",
     "text": [
      "Ciao mondo\n"
     ]
    }
   ],
   "source": [
    "print(\"Ciao mondo\")"
   ]
  },
  {
   "cell_type": "markdown",
   "metadata": {},
   "source": [
    "Il kernel di Jupyter salva in memoria il codice che hai già eseguito"
   ]
  },
  {
   "cell_type": "code",
   "execution_count": 29,
   "metadata": {
    "collapsed": true
   },
   "outputs": [],
   "source": [
    "a = 5\n",
    "b = 3"
   ]
  },
  {
   "cell_type": "markdown",
   "metadata": {},
   "source": [
    "Quindi puoi chiamare variabili e funzioni definite all'interno di altre celle"
   ]
  },
  {
   "cell_type": "code",
   "execution_count": 30,
   "metadata": {},
   "outputs": [
    {
     "name": "stdout",
     "output_type": "stream",
     "text": [
      "2\n"
     ]
    }
   ],
   "source": [
    "c=a-b\n",
    "print(c)"
   ]
  },
  {
   "cell_type": "markdown",
   "metadata": {},
   "source": [
    "## 2.2 L'output"
   ]
  },
  {
   "cell_type": "markdown",
   "metadata": {},
   "source": [
    "L'output dell'ultima operazione viene sempre mostrato su schermo, anche se non utilizzi esplicitamente la funzione print"
   ]
  },
  {
   "cell_type": "code",
   "execution_count": 32,
   "metadata": {},
   "outputs": [
    {
     "data": {
      "text/plain": [
       "2"
      ]
     },
     "execution_count": 32,
     "metadata": {},
     "output_type": "execute_result"
    }
   ],
   "source": [
    "a-b"
   ]
  },
  {
   "cell_type": "markdown",
   "metadata": {},
   "source": [
    "Puoi visualizzare output molto lunghi come una lista, cliccando nel riquadro a sinistra dell'output."
   ]
  },
  {
   "cell_type": "code",
   "execution_count": 31,
   "metadata": {
    "collapsed": true
   },
   "outputs": [
    {
     "name": "stdout",
     "output_type": "stream",
     "text": [
      "0\n",
      "1\n",
      "2\n",
      "3\n",
      "4\n",
      "5\n",
      "6\n",
      "7\n",
      "8\n",
      "9\n",
      "10\n",
      "11\n",
      "12\n",
      "13\n",
      "14\n",
      "15\n",
      "16\n",
      "17\n",
      "18\n",
      "19\n",
      "20\n",
      "21\n",
      "22\n",
      "23\n",
      "24\n",
      "25\n",
      "26\n",
      "27\n",
      "28\n",
      "29\n"
     ]
    }
   ],
   "source": [
    "for i in range(0,30):\n",
    "    print(i)"
   ]
  },
  {
   "cell_type": "markdown",
   "metadata": {},
   "source": [
    "Per nascondere del tutto l'output puoi fare doppio click sullo stesso riquadro."
   ]
  },
  {
   "cell_type": "markdown",
   "metadata": {},
   "source": [
    "## 2.x Funzioni di sistema"
   ]
  },
  {
   "cell_type": "markdown",
   "metadata": {},
   "source": [
    "Jupyter fornisce alcune funzioni utili per valutare il tuo codice, come il tempo di esecuzione"
   ]
  },
  {
   "cell_type": "code",
   "execution_count": 40,
   "metadata": {},
   "outputs": [
    {
     "name": "stdout",
     "output_type": "stream",
     "text": [
      "CPU times: user 410 ms, sys: 1.77 ms, total: 412 ms\n",
      "Wall time: 411 ms\n"
     ]
    }
   ],
   "source": [
    "%%time\n",
    "\n",
    "def fibonacci(n):\n",
    "    if n == 0: return 0\n",
    "    elif n == 1: return 1\n",
    "    else: return fibonacci(n-1)+fibonacci(n-2)\n",
    "\n",
    "\n",
    "fibonacci(30)"
   ]
  },
  {
   "cell_type": "markdown",
   "metadata": {},
   "source": [
    "Puoi eseguire comandi da riga di comando utilizzando l'operatore '!'"
   ]
  },
  {
   "cell_type": "code",
   "execution_count": 46,
   "metadata": {},
   "outputs": [
    {
     "name": "stdout",
     "output_type": "stream",
     "text": [
      "-italy--venice--couple-riding-in-godola--woman-leaning-against-man--200469794-001-59825c9b519de20011cf9938.jpg\r\n",
      "01_python.png\r\n",
      "1-22-650x353.jpg\r\n",
      "1-kD1D-Rz4gZe8uMF3GEP8AgaBcDBP-590x445@Corriere-Web-Sezioni.jpg\r\n",
      "104117471-makeit_robots_take_jobs_clifford_mezz.1910x1000.jpg\r\n",
      "1200px-Google_2015_logo.svg.png\r\n",
      "1200px-IBM_Blue_Gene_P_supercomputer.jpg\r\n",
      "1200px-IBM_logo.svg.png\r\n",
      "1200px-Intel-logo.svg.png\r\n",
      "12140173_1658592414414204_5800877809609204068_o.jpg\r\n",
      "1458593_1675895746017204_4162793758147381622_n (1).jpg\r\n",
      "1458593_1675895746017204_4162793758147381622_n.jpg\r\n",
      "14_euro-goosh.jpg\r\n",
      "1500155561682.jpg\r\n",
      "1504670932140325106.jpg\r\n",
      "16999057_1866945883578855_4668123133555495958_n.jpg\r\n",
      "17.png\r\n",
      "1_wh1N-kogDMaZYS17lqyqeQ.jpeg\r\n",
      "2000px-Google__G__Logo.svg.png\r\n",
      "2000px-Supercell-logo.svg.png\r\n",
      "20150519032550_fLZgc3cjdg.jpg\r\n",
      "20151230_150025.jpg\r\n",
      "20160101_173348.jpg\r\n",
      "20160101_173409.jpg\r\n",
      "20160518_201217.jpg\r\n",
      "20160707_183859.jpg\r\n",
      "20160707_183903.jpg\r\n",
      "20160903181541!Twitter_bird_logo.png\r\n",
      "2017-03-23-13-49-09-725x483.jpg\r\n",
      "240007-widescreen-code-background-1920x1080-macbook.jpg\r\n",
      "240_F_168494279_ZvfXe4JOXLBThiAuaAmB51sInFBZqEtG.jpg\r\n",
      "246x0w.jpg\r\n",
      "27332298_1806240576343203_7011503132538831507_n.jpg\r\n",
      "28080638_542463186126270_503320739_o.jpg\r\n",
      "33e709e4-1ec7-41fc-a3ee-395974d7f85d.jpeg\r\n",
      "3dacc292-967d-43ee-ab73-02510227b2a7.jpeg\r\n",
      "4334237247_08af133b4b_b.jpg\r\n",
      "4654424717_cf0f293c2e_b.jpg\r\n",
      "500px-Baidu.svg.png\r\n",
      "500px-TripAdvisor_logo.svg.png\r\n",
      "543c477e9547e.jpg.jpg\r\n",
      "564699_543205675689780_1022790770_n.png\r\n",
      "580b57fcd9996e24bc43c529.png\r\n",
      "61BHttQq6iL._SL1000_.jpg\r\n",
      "69381198-programmer-wallpapers.jpg\r\n",
      "76425b3189e2435193ecfa7683bd04fb.jpg\r\n",
      "79.52.99.146_1518524393.png\r\n",
      "95d5a7f53a31c42a4717c5091d16c8ed--cat-breeds-calico-cats.jpg\r\n",
      "Amazon-A-Logo.jpg\r\n",
      "Amazon-Alexa-India.jpg\r\n",
      "Amz-Pub.jpeg\r\n",
      "Amz-Pub.png\r\n",
      "AppleSiri1TNW-1200x651.jpg\r\n",
      "\u001b[34mApplications\u001b[m\u001b[m\r\n",
      "Arthur Samuel picture.jpg\r\n",
      "Arthur Samuel picture.png\r\n",
      "Artificial-Intelligence-AI-larger-graphic.png\r\n",
      "Baia_di_Taormina_-_Sicily.jpg\r\n",
      "CVC-Deal-Share-into-AI-Sectors.jpg\r\n",
      "Conversation_at_Wikimania_2010_4.jpg\r\n",
      "\u001b[34mCreative Cloud Files\u001b[m\u001b[m\r\n",
      "Def.png\r\n",
      "Dell_logo_2016.svg.png\r\n",
      "\u001b[34mDesktop\u001b[m\u001b[m\r\n",
      "Desktop HD.jpg\r\n",
      "\u001b[34mDocuments\u001b[m\u001b[m\r\n",
      "Dog-Face-PNG-Image.png\r\n",
      "\u001b[34mDownloads\u001b[m\u001b[m\r\n",
      "\u001b[34mDrive\u001b[m\u001b[m\r\n",
      "Dropbox_Logo_02.svg\r\n",
      "Elon_Musk_-_The_Summit_2013 (1).jpg\r\n",
      "Elon_Musk_-_The_Summit_2013 (2).jpg\r\n",
      "Elon_Musk_-_The_Summit_2013 (2).png\r\n",
      "Elon_Musk_-_The_Summit_2013.jpg\r\n",
      "Entrepreneur Programmer _ If used, please link to joshmacdon… _ Flickr.htm\r\n",
      "\u001b[34mEntrepreneur Programmer _ If used, please link to joshmacdon… _ Flickr_files\u001b[m\u001b[m\r\n",
      "FB-fLogo-Blue-broadcast-2.png\r\n",
      "Group.png\r\n",
      "IMG-20140928-WA0001.jpg\r\n",
      "IMG-20141004-WA0009.jpg\r\n",
      "IMG_1605.JPG\r\n",
      "IMG_3264.jpg\r\n",
      "Interactive Data Visualization for the Web_ An Introduction to Designing with D3 [Murray 2013-04-05].pdf\r\n",
      "King-logo-2013.png\r\n",
      "Kitty-Tiger-Reflection.jpg\r\n",
      "Liar-and-Truth-Teller-Door-Riddle.jpg\r\n",
      "\u001b[34mLibrary\u001b[m\u001b[m\r\n",
      "LinkedIn-top-25-emerging-jobs.jpg\r\n",
      "Linkedin-logo-1-550x550-300x300.png\r\n",
      "MSFT_logo_rgb_C-Gray.png\r\n",
      "Makibes-M88-Smart-Band-Black-415281-.jpg\r\n",
      "Money_Face_Emoji_b26670f3-2d57-42f5-9003-f1a1ee3257c6_large.png\r\n",
      "\u001b[34mMovies\u001b[m\u001b[m\r\n",
      "\u001b[34mMusic\u001b[m\u001b[m\r\n",
      "NN.png\r\n",
      "Oracle-logo.png\r\n",
      "Original_WW198799.jpg\r\n",
      "PHOTO_20130525_162010_preview.jpeg\r\n",
      "\u001b[34mPictures\u001b[m\u001b[m\r\n",
      "\u001b[34mPublic\u001b[m\u001b[m\r\n",
      "SAS_Supermarket_-_interior-_4.jpg\r\n",
      "Schermata 2018-03-04 alle 13.00.33.png\r\n",
      "Screen_Shot_2016-11-17_at_11.14.54_AM.png\r\n",
      "Slice.svg\r\n",
      "Spotify_logo_with_text.svg.png\r\n",
      "This_is_the_photo_of_Arthur_Samuel.jpg\r\n",
      "Uber-logo-black.png\r\n",
      "UiS7C7C.jpg\r\n",
      "Wattpad_logo.svg.png\r\n",
      "XL_235078-Staffan-Widstrand-WWF.jpg\r\n",
      "a_course_in_ml.pdf\r\n",
      "a_first_encounter_to_ml.pdf\r\n",
      "aaa.jpg\r\n",
      "alibaba-logo.png\r\n",
      "amazon_logo_RGB.jpg\r\n",
      "amore.jpg\r\n",
      "amore2.jpg\r\n",
      "\u001b[34manaconda3\u001b[m\u001b[m\r\n",
      "apple.gif\r\n",
      "arguing-couple2.jpg\r\n",
      "argument-238529_960_720.jpg\r\n",
      "bcf.png\r\n",
      "beach.jpg\r\n",
      "bg.jpg\r\n",
      "bg2.jpg\r\n",
      "bigdata4.jpg\r\n",
      "\u001b[34mbin\u001b[m\u001b[m\r\n",
      "british-english-bulldog-700x700.jpg\r\n",
      "chatbot_duration.png\r\n",
      "code-wallpaper-2.jpg\r\n",
      "course.jpg\r\n",
      "cover.psd\r\n",
      "cutedog.jpg\r\n",
      "deep-blue-kasparov.jpg\r\n",
      "destruction.gif\r\n",
      "diez-lecciones-machine-learning.jpg\r\n",
      "digital-health3.jpg\r\n",
      "docker\r\n",
      "docker.pub\r\n",
      "dolce-gabbana-adv-campaign-ss-2013-taormina.jpg\r\n",
      "dolce-gabbana-ss-2013-adv-campaign-women.jpg\r\n",
      "download (1).jpeg\r\n",
      "download (1).png\r\n",
      "download.jpeg\r\n",
      "download.png\r\n",
      "dreamstime_s_32429515-660x330.jpg\r\n",
      "engineering-building-fails-10.jpg\r\n",
      "evolving_google_identity_share.jpg\r\n",
      "f9f5219d08596dfd25cf92ac9d68460d.jpg\r\n",
      "facebook-logo.jpg\r\n",
      "facebook-logo_27013_s.png\r\n",
      "facial-recognition-photo-tagging-shutterstock-510px.jpg\r\n",
      "fb_icon_325x325.png\r\n",
      "fd2932e0-2d35-41a1-b7b5-1411119eff0c.jpeg\r\n",
      "fitbit_logo_1200.png\r\n",
      "gettyimages-515358446.jpg\r\n",
      "glyph_m1@2x-vflA6lTFZ.png\r\n",
      "google-home-page-ss-1920.jpg\r\n",
      "google.png\r\n",
      "guide-to-facebook-advertising-850x470-c.png\r\n",
      "health.png\r\n",
      "health2.svg\r\n",
      "health@2x.png\r\n",
      "hey-siri.jpg\r\n",
      "human-machine2.png\r\n",
      "image-CRUSHED_1137.jpg\r\n",
      "image.jpeg\r\n",
      "images.jpeg\r\n",
      "internet-explorer-logo_318-40166.jpg\r\n",
      "istock-515143545.jpg\r\n",
      "jellyfish_video.mp4\r\n",
      "journey_guide.jpg\r\n",
      "jupyter-tutorial.ipynb\r\n",
      "kitty.jpg\r\n",
      "knowledge_graph_logo.png\r\n",
      "\u001b[34mlading\u001b[m\u001b[m\r\n",
      "light.png\r\n",
      "logo.png\r\n",
      "logo.svg\r\n",
      "look_at_her_t_shirt-r3d1032a9956c4e3b98a85c7470097847_k2grf_324.jpg\r\n",
      "machine-learning-apps.jpg\r\n",
      "machine-learning.jpg\r\n",
      "main-qimg-9d420d4b1d17c3992b1e2d8307e19850-c.jpeg\r\n",
      "main2.svg\r\n",
      "man-playing-chess.jpg\r\n",
      "mark1._TTH_.png\r\n",
      "maxresdefault (1).jpg\r\n",
      "maxresdefault.jpg\r\n",
      "me.jpg\r\n",
      "ml_intro.mp4\r\n",
      "netflixmakeover.jpg\r\n",
      "\u001b[34mnode_modules\u001b[m\u001b[m\r\n",
      "package-lock.json\r\n",
      "papers.jpg\r\n",
      "pi.jpg\r\n",
      "python_logo.png\r\n",
      "reading.jpg\r\n",
      "real-world-active-learning.pdf\r\n",
      "recognition (1).png\r\n",
      "recognition.png\r\n",
      "rodeo.log\r\n",
      "siri-ios-7-sign.jpg\r\n",
      "smile.jpg\r\n",
      "smiley-is-pleased-red-cheeks-whatsapp-emoji-1F60A.png\r\n",
      "speak.svg\r\n",
      "sunny.png\r\n",
      "super-mind-evolution-system-guide.jpg\r\n",
      "superman-data-scientist-graphic.jpg\r\n",
      "symbol-male-and-female-hi.png\r\n",
      "tM6Avpg6Rqk.jpg\r\n",
      "tabby-cat-names.jpg\r\n",
      "terminator.jpg\r\n",
      "the-documentary-about-google-deepminds-alphago-algorithm-is-now-available-on-netflix.jpg\r\n",
      "thinky.w710.h473.jpg\r\n",
      "thinky.w710.h473.png\r\n",
      "tiger_face_cub_baby_striped_52304_2732x2732.jpg\r\n",
      "toyger-cat-breed-singapore-history-pets.jpg\r\n",
      "translate.jpeg\r\n",
      "uber-self-driving-car.jpg\r\n",
      "udemy.mp4\r\n",
      "unnamed.png\r\n",
      "version 1.png\r\n",
      "\u001b[34mvita\u001b[m\u001b[m\r\n",
      "vlcsnap-2013-04-17-13h16m27s224_preview.jpeg\r\n",
      "water.mp3\r\n",
      "webcam-toy-foto9_preview.jpeg\r\n",
      "wellness.png\r\n",
      "wellness.svg\r\n",
      "wired_hardwired-so-what-is-a-robot-really copia.jpg\r\n",
      "wired_hardwired-so-what-is-a-robot-really.jpg\r\n",
      "yahoo-feature.jpg\r\n"
     ]
    }
   ],
   "source": [
    "#Questo comando ti mostra il contenuto della directory corrente\n",
    "!ls"
   ]
  },
  {
   "cell_type": "markdown",
   "metadata": {},
   "source": [
    "Puoi anche eseguire comandi bash più complessi in questo modo"
   ]
  },
  {
   "cell_type": "code",
   "execution_count": 1,
   "metadata": {},
   "outputs": [
    {
     "name": "stdout",
     "output_type": "stream",
     "text": [
      "giuseppe\n",
      "/Users/giuseppe/corso-ml\n"
     ]
    },
    {
     "name": "stderr",
     "output_type": "stream",
     "text": [
      "bash: line 3: ls2: command not found\n"
     ]
    }
   ],
   "source": [
    "%%bash\n",
    "whoami\n",
    "pwd\n",
    "ls2\n",
    "#Questa sequenza di comandi mostra il tuo nome utente, il percorso corrente ed il suo contenuto"
   ]
  },
  {
   "cell_type": "markdown",
   "metadata": {},
   "source": [
    "## 2.x Plotting"
   ]
  },
  {
   "cell_type": "markdown",
   "metadata": {},
   "source": [
    "Utilizzando Jupyter insieme a matplotlib puoi stampare diversi tipi di grafici direttamente nell'output.<br>\n",
    "Per farlo esegui questo codice all'inizio del tuo notebook, o comunque prima di lavorare con matplotlib."
   ]
  },
  {
   "cell_type": "code",
   "execution_count": 49,
   "metadata": {
    "collapsed": true
   },
   "outputs": [],
   "source": [
    "%matplotlib inline"
   ]
  },
  {
   "cell_type": "markdown",
   "metadata": {},
   "source": [
    "Dopodichè puoi importare pyplot e costruire il tuo grafico"
   ]
  },
  {
   "cell_type": "code",
   "execution_count": 50,
   "metadata": {},
   "outputs": [
    {
     "data": {
      "text/plain": [
       "[<matplotlib.lines.Line2D at 0x115ca6828>]"
      ]
     },
     "execution_count": 50,
     "metadata": {},
     "output_type": "execute_result"
    },
    {
     "data": {
      "image/png": "[encoded data removed]",
      "text/plain": [
       "<matplotlib.figure.Figure at 0x10d5b7fd0>"
      ]
     },
     "metadata": {},
     "output_type": "display_data"
    }
   ],
   "source": [
    "import matplotlib.pyplot as plt\n",
    "\n",
    "data = [1,2,3,10,15,30,50,80]\n",
    "plt.plot(data)"
   ]
  },
  {
   "cell_type": "markdown",
   "metadata": {},
   "source": [
    "**NOTA BENE** Ricorda che il kernel di Jupyter salva in memoria l'esecuzione di un comando, quindi per ottimizzare il tuo codice importa tutte le librerie necessarie all'inizio del notebook in una cella apposita."
   ]
  },
  {
   "cell_type": "code",
   "execution_count": null,
   "metadata": {
    "collapsed": true
   },
   "outputs": [],
   "source": []
  }
 ],
 "metadata": {
  "kernelspec": {
   "display_name": "Python 3",
   "language": "python",
   "name": "python3"
  },
  "language_info": {
   "codemirror_mode": {
    "name": "ipython",
    "version": 3
   },
   "file_extension": ".py",
   "mimetype": "text/x-python",
   "name": "python",
   "nbconvert_exporter": "python",
   "pygments_lexer": "ipython3",
   "version": "3.6.4"
  }
 },
 "nbformat": 4,
 "nbformat_minor": 2
}
